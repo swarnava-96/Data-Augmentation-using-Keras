{
  "nbformat": 4,
  "nbformat_minor": 0,
  "metadata": {
    "colab": {
      "name": "Data Augmentation",
      "provenance": [],
      "mount_file_id": "14lQ-eYtGauoHltS_evmjh1hl_1leuSFI",
      "authorship_tag": "ABX9TyM9kCv27K7Bq1MdMoYI0EqH",
      "include_colab_link": true
    },
    "kernelspec": {
      "name": "python3",
      "display_name": "Python 3"
    },
    "language_info": {
      "name": "python"
    },
    "accelerator": "GPU"
  },
  "cells": [
    {
      "cell_type": "markdown",
      "metadata": {
        "id": "view-in-github",
        "colab_type": "text"
      },
      "source": [
        "<a href=\"https://colab.research.google.com/github/swarnava-96/Data-Augmentation-using-Keras/blob/main/Data_Augmentation.ipynb\" target=\"_parent\"><img src=\"https://colab.research.google.com/assets/colab-badge.svg\" alt=\"Open In Colab\"/></a>"
      ]
    },
    {
      "cell_type": "markdown",
      "metadata": {
        "id": "DzpBKgsFSp3h"
      },
      "source": [
        "# **Data Augmentation using Keras**"
      ]
    },
    {
      "cell_type": "code",
      "metadata": {
        "colab": {
          "base_uri": "https://localhost:8080/"
        },
        "id": "pzM5Ia3eVahF",
        "outputId": "09456557-452d-4c66-d8c2-f8e3d3319354"
      },
      "source": [
        "cd \"/content/drive/MyDrive/Data\""
      ],
      "execution_count": 2,
      "outputs": [
        {
          "output_type": "stream",
          "text": [
            "/content/drive/MyDrive/Data\n"
          ],
          "name": "stdout"
        }
      ]
    },
    {
      "cell_type": "code",
      "metadata": {
        "id": "-8KLBZZhSvKv"
      },
      "source": [
        "from keras.preprocessing.image import ImageDataGenerator, array_to_img, img_to_array, load_img"
      ],
      "execution_count": 1,
      "outputs": []
    },
    {
      "cell_type": "code",
      "metadata": {
        "id": "s5wjf3-wTgNX"
      },
      "source": [
        "datagen = ImageDataGenerator(\n",
        "    rotation_range = 40,\n",
        "    width_shift_range = 0.2,\n",
        "    height_shift_range = 0.2,\n",
        "    shear_range = 0.2,\n",
        "    zoom_range = 0.2,\n",
        "    horizontal_flip = True,\n",
        "    fill_mode = 'nearest'\n",
        ")\n",
        "\n",
        "img = load_img(\"cat.jpg\")\n",
        "\n",
        "x = img_to_array(img)\n",
        "x = x.reshape((1,) + x.shape)\n",
        "\n",
        "i = 0\n",
        "# .flow() command generates batches of randomly transformed images and saves the result to the file directory\n",
        "for batch in datagen.flow(x, batch_size = 1, save_to_dir = \"preview\", save_prefix = \"cat\", save_format = \"jpeg\"):\n",
        "  i += 1\n",
        "  if i > 20:\n",
        "    break  # Otherwise the generator will loop indefinitely"
      ],
      "execution_count": 4,
      "outputs": []
    }
  ]
}